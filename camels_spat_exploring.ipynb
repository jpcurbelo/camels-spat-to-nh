{
 "cells": [
  {
   "cell_type": "markdown",
   "metadata": {},
   "source": [
    "# Import packages"
   ]
  },
  {
   "cell_type": "code",
   "execution_count": 25,
   "metadata": {},
   "outputs": [
    {
     "name": "stdout",
     "output_type": "stream",
     "text": [
      "The autoreload extension is already loaded. To reload it, use:\n",
      "  %reload_ext autoreload\n"
     ]
    }
   ],
   "source": [
    "%load_ext autoreload\n",
    "%autoreload 2\n",
    "\n",
    "import os\n",
    "import sys\n",
    "\n",
    "import xarray as xr\n",
    "import pandas as pd\n",
    "import numpy as np\n",
    "import yaml\n",
    "import matplotlib.pyplot as plt\n",
    "\n",
    "from utils.utils import reduceDataByDay\n",
    "\n",
    "# Set display options for pandas\n",
    "pd.set_option('display.max_columns', None)  # Set to None for unlimited columns or specify a number\n",
    "# Now, when one displays xarray DataArrays or Datasets, the columns will be wider\n",
    "\n",
    "\n",
    "# Get the current working directory of the notebook\n",
    "current_dir = os.getcwd()\n",
    "# Add the parent directory of the notebook to the Python path\n",
    "# root_dir = os.path.abspath(os.path.join(current_dir, '..', '..'))\n",
    "root_dir = os.path.abspath(current_dir)\n",
    "sys.path.append(root_dir)\n",
    "\n"
   ]
  },
  {
   "cell_type": "code",
   "execution_count": 27,
   "metadata": {},
   "outputs": [
    {
     "name": "stdout",
     "output_type": "stream",
     "text": [
      "xarray version: 2023.1.0\n",
      "pandas version: 2.0.3\n",
      "numpy version: 1.24.4\n",
      "yaml version: 6.0.1\n"
     ]
    }
   ],
   "source": [
    "# Print packages version\n",
    "print(f'xarray version: {xr.__version__}')\n",
    "print(f'pandas version: {pd.__version__}')\n",
    "print(f'numpy version: {np.__version__}')\n",
    "print(f'yaml version: {yaml.__version__}')\n"
   ]
  },
  {
   "cell_type": "markdown",
   "metadata": {},
   "source": [
    "# Load Data"
   ]
  },
  {
   "cell_type": "markdown",
   "metadata": {},
   "source": [
    "## Util data"
   ]
  },
  {
   "cell_type": "code",
   "execution_count": 10,
   "metadata": {},
   "outputs": [],
   "source": [
    "# Define the path to the data directory file\n",
    "data_dir_path = os.path.join(root_dir, \"utils\", \"data_dir.yml\")\n",
    "\n",
    "with open(data_dir_path, 'r') as ymlfile:\n",
    "    data_dir = yaml.load(ymlfile, Loader=yaml.FullLoader)\n",
    "    \n",
    "data_dir_src = data_dir['data_dir_camels_spat']\n",
    "data_dir_out = data_dir['data_dir_camels_spat_nh']"
   ]
  },
  {
   "cell_type": "code",
   "execution_count": 11,
   "metadata": {},
   "outputs": [],
   "source": [
    "data_gen_path = os.path.join(root_dir, \"utils\", \"data_general.yml\")\n",
    "\n",
    "with open(data_gen_path, 'r') as ymlfile:\n",
    "    data_gen = yaml.load(ymlfile, Loader=yaml.FullLoader)\n",
    "    \n",
    "countries = data_gen['countries']\n",
    "camels_spat_metadata = data_gen['camels_spat_metadata']\n",
    "camels_spat_unusable = data_gen['camels_spat_unusable']\n",
    "data_sources = data_gen['data_sources']"
   ]
  },
  {
   "cell_type": "markdown",
   "metadata": {},
   "source": [
    "### Filter usable basins and create txt file"
   ]
  },
  {
   "cell_type": "code",
   "execution_count": 12,
   "metadata": {},
   "outputs": [],
   "source": [
    "# df_metadata = pd.read_csv(os.path.join(data_dir_src, camels_spat_metadata))\n",
    "# df_unusable = pd.read_csv(os.path.join(data_dir_src, camels_spat_unusable))\n",
    "df_metadata = pd.read_csv(os.path.join('data', camels_spat_metadata))\n",
    "# df_unusable = pd.read_csv(os.path.join('data', camels_spat_unusable))\n",
    "\n",
    "# # Create a dict to map the Country to a list of Station_id\n",
    "# # Create a dictionary to map Country to a list of Station_id\n",
    "# country_station_map = {}\n",
    "# for index, row in df_metadata.iterrows():\n",
    "#     country = row['Country']\n",
    "#     station_id = row['Station_id']\n",
    "#     if country in country_station_map:\n",
    "#         country_station_map[country].append(station_id)\n",
    "#     else:\n",
    "#         country_station_map[country] = [station_id]"
   ]
  },
  {
   "cell_type": "markdown",
   "metadata": {},
   "source": [
    "## Basin data"
   ]
  },
  {
   "cell_type": "code",
   "execution_count": 13,
   "metadata": {},
   "outputs": [
    {
     "data": {
      "text/plain": [
       "1698"
      ]
     },
     "execution_count": 13,
     "metadata": {},
     "output_type": "execute_result"
    }
   ],
   "source": [
    "file_name = 'camels_spat_metadata.csv'\n",
    "# file_name = 'rhbn_stations.csv'\n",
    "# Load data as pandas dataframe\n",
    "df = pd.read_csv(os.path.join(data_dir_src, file_name), sep=',', header=0)\n",
    "# Print first 5 rows\n",
    "len(df)"
   ]
  },
  {
   "cell_type": "code",
   "execution_count": 14,
   "metadata": {},
   "outputs": [
    {
     "data": {
      "text/plain": [
       "2"
      ]
     },
     "execution_count": 14,
     "metadata": {},
     "output_type": "execute_result"
    }
   ],
   "source": [
    "basin_data_path = os.path.join(data_dir_src, 'basin_data')\n",
    "list_basin_files = sorted(os.listdir(basin_data_path))\n",
    "\n",
    "# Filter folders by country name (3 first letters) - create a dictionary\n",
    "basin_data_path_dict = {}\n",
    "for country in countries:\n",
    "    basin_data_path_dict[country] = [basin for basin in list_basin_files if basin[:3] == country]\n",
    "len(basin_data_path_dict['CAN']) + len(basin_data_path_dict['USA'])"
   ]
  },
  {
   "cell_type": "code",
   "execution_count": 15,
   "metadata": {},
   "outputs": [
    {
     "data": {
      "text/plain": [
       "['CAN_01AD002', 'CAN_01AD003']"
      ]
     },
     "execution_count": 15,
     "metadata": {},
     "output_type": "execute_result"
    }
   ],
   "source": [
    "basin_data_path_dict[countries[0]]"
   ]
  },
  {
   "cell_type": "code",
   "execution_count": 16,
   "metadata": {},
   "outputs": [
    {
     "name": "stdout",
     "output_type": "stream",
     "text": [
      "Directory ../../../gladwell/hydrology/SUMMA/summa-ml-models/CAMELS_spat_NH/CAMELS_spat_CAN already exists\n",
      "CAN\n",
      "CAN_01AD002\n",
      "ERA5 852\n",
      "Loading Input datasets...\n"
     ]
    },
    {
     "name": "stdout",
     "output_type": "stream",
     "text": [
      "Concatenating Input datasets...\n",
      "Reducing Input data to daily values...\n",
      "Converting Input to DataFrame...\n",
      "EM-Earth 840\n",
      "Loading Input datasets...\n",
      "Concatenating Input datasets...\n",
      "Reducing Input data to daily values...\n",
      "Converting Input to DataFrame...\n",
      "Merging Input DataFrames...\n",
      "Converting Target to DataFrame...\n",
      "Merging Input and Target DataFrames...\n",
      "Saving to file...\n",
      "CAN_01AD003\n",
      "ERA5 857\n",
      "Loading Input datasets...\n",
      "Concatenating Input datasets...\n",
      "Reducing Input data to daily values...\n",
      "Converting Input to DataFrame...\n",
      "EM-Earth 819\n",
      "Loading Input datasets...\n",
      "Concatenating Input datasets...\n",
      "Reducing Input data to daily values...\n",
      "Converting Input to DataFrame...\n",
      "Merging Input DataFrames...\n",
      "Converting Target to DataFrame...\n",
      "Merging Input and Target DataFrames...\n",
      "Saving to file...\n",
      "Directory ../../../gladwell/hydrology/SUMMA/summa-ml-models/CAMELS_spat_NH/CAMELS_spat_USA already exists\n",
      "USA\n"
     ]
    }
   ],
   "source": [
    "relative_path_forc = data_dir['relative_path_forcing']\n",
    "relative_path_targ = data_dir['relative_path_target']\n",
    "for country in countries:\n",
    "    \n",
    "    # Create a folder for each country\n",
    "    country_dir = os.path.join(data_dir_out, f'CAMELS_spat_{country}')\n",
    "    if not os.path.exists(country_dir ):\n",
    "        os.makedirs(country_dir)\n",
    "    else:\n",
    "        print(f\"Directory {country_dir} already exists\")\n",
    "        \n",
    "    print(country)\n",
    "    for basin_f in basin_data_path_dict[country][:]:\n",
    "        print(basin_f)\n",
    "        ## Load input data\n",
    "        df_src_dict = {}\n",
    "        for src in data_sources:\n",
    "            folder2load = os.path.join(basin_data_path, basin_f, relative_path_forc)\n",
    "            \n",
    "            eras_files = sorted([f for f in os.listdir(folder2load) if src in f])\n",
    "            print(src, len(eras_files))\n",
    "\n",
    "            # Initialize an empty list to store the xarray datasets\n",
    "            datasets = []\n",
    "            # Iterate over the files and load each dataset\n",
    "            print(\"Loading Input datasets...\")\n",
    "            for file2load in eras_files[:50]:\n",
    "                # If not .temp file\n",
    "                if '.tmp' not in file2load:\n",
    "                    basin_data = xr.open_dataset(os.path.join(folder2load, file2load))\n",
    "                    datasets.append(basin_data)\n",
    "                \n",
    "            # Concatenate all datasets along the 'time' dimension\n",
    "            print(\"Concatenating Input datasets...\")\n",
    "            concatenated_dataset = xr.concat(datasets, dim='time')\n",
    "                \n",
    "            # Reduce basin_data to daily values\n",
    "            print(\"Reducing Input data to daily values...\")\n",
    "            basin_data_reduced = reduceDataByDay(concatenated_dataset, data_gen['input_vars'], data_gen['sum_vars'])\n",
    "            # Convert the reduced basin_data to a DataFrame, dropping the 'hru' dimension\n",
    "            print(\"Converting Input to DataFrame...\")\n",
    "            basin_data_df = basin_data_reduced.to_dataframe().droplevel('hru').reset_index()\n",
    "            \n",
    "            # Save to dict\n",
    "            df_src_dict[src] = basin_data_df\n",
    "            \n",
    "        # Merge dataframes in the dictionary\n",
    "        print(\"Merging Input DataFrames...\")\n",
    "        df_merged_inp = df_src_dict[data_sources[0]].merge(df_src_dict[data_sources[1]], on='time')\n",
    "        \n",
    "        # Rename time by date\n",
    "        df_merged_inp.rename(columns={'time': 'date'}, inplace=True)\n",
    "        \n",
    "        ## Load target data\n",
    "        target_data = xr.open_dataset(os.path.join(basin_data_path, basin_f, relative_path_targ, f'{basin_f}_daily_flow_observations.nc'))\n",
    "        \n",
    "        # Subset by data_gen['target_vars']\n",
    "        target_data = target_data[data_gen['target_vars']]\n",
    "        # Convert to DataFrame\n",
    "        print(\"Converting Target to DataFrame...\")\n",
    "        df_target = target_data.to_dataframe().reset_index()\n",
    "        # Rename time by date\n",
    "        df_target.rename(columns={'time': 'date'}, inplace=True)\n",
    "        # # drop column 'time_bnds' and remove duplicates\n",
    "        # df_target.drop(columns=['time_bnds'], inplace=True)\n",
    "        df_target = df_target.drop_duplicates(subset=['date'])\n",
    "        \n",
    "        # Merge input and target dataframes\n",
    "        print(\"Merging Input and Target DataFrames...\")\n",
    "        df_merged = df_merged_inp.merge(df_target, on='date')\n",
    "        \n",
    "        # Save to file\n",
    "        print(\"Saving to file...\")\n",
    "        df_merged.to_csv(os.path.join(country_dir, basin_f + '.csv'), index=False)\n",
    "        \n",
    "        "
   ]
  },
  {
   "cell_type": "code",
   "execution_count": 24,
   "metadata": {},
   "outputs": [
    {
     "data": {
      "text/plain": [
       "Index(['date', 'e', 'mper', 'msdwlwrf', 'msdwswrf', 'msnlwrf', 'msnswrf',\n",
       "       'mtpr', 'q', 'rh', 'sp', 't', 'u', 'v', 'w', 'phi', 'tmean', 'prcp',\n",
       "       'q_obs'],\n",
       "      dtype='object')"
      ]
     },
     "execution_count": 24,
     "metadata": {},
     "output_type": "execute_result"
    }
   ],
   "source": [
    "df_merged.columns"
   ]
  },
  {
   "cell_type": "code",
   "execution_count": 17,
   "metadata": {},
   "outputs": [
    {
     "data": {
      "text/plain": [
       "['latitude', 'longitude', 'hruId', 'tmean', 'prcp', 'time_bnds']"
      ]
     },
     "execution_count": 17,
     "metadata": {},
     "output_type": "execute_result"
    }
   ],
   "source": [
    "list(basin_data.data_vars)"
   ]
  },
  {
   "cell_type": "markdown",
   "metadata": {},
   "source": []
  },
  {
   "cell_type": "markdown",
   "metadata": {},
   "source": []
  },
  {
   "cell_type": "markdown",
   "metadata": {},
   "source": []
  },
  {
   "cell_type": "code",
   "execution_count": 18,
   "metadata": {},
   "outputs": [
    {
     "data": {
      "text/html": [
       "<div><svg style=\"position: absolute; width: 0; height: 0; overflow: hidden\">\n",
       "<defs>\n",
       "<symbol id=\"icon-database\" viewBox=\"0 0 32 32\">\n",
       "<path d=\"M16 0c-8.837 0-16 2.239-16 5v4c0 2.761 7.163 5 16 5s16-2.239 16-5v-4c0-2.761-7.163-5-16-5z\"></path>\n",
       "<path d=\"M16 17c-8.837 0-16-2.239-16-5v6c0 2.761 7.163 5 16 5s16-2.239 16-5v-6c0 2.761-7.163 5-16 5z\"></path>\n",
       "<path d=\"M16 26c-8.837 0-16-2.239-16-5v6c0 2.761 7.163 5 16 5s16-2.239 16-5v-6c0 2.761-7.163 5-16 5z\"></path>\n",
       "</symbol>\n",
       "<symbol id=\"icon-file-text2\" viewBox=\"0 0 32 32\">\n",
       "<path d=\"M28.681 7.159c-0.694-0.947-1.662-2.053-2.724-3.116s-2.169-2.030-3.116-2.724c-1.612-1.182-2.393-1.319-2.841-1.319h-15.5c-1.378 0-2.5 1.121-2.5 2.5v27c0 1.378 1.122 2.5 2.5 2.5h23c1.378 0 2.5-1.122 2.5-2.5v-19.5c0-0.448-0.137-1.23-1.319-2.841zM24.543 5.457c0.959 0.959 1.712 1.825 2.268 2.543h-4.811v-4.811c0.718 0.556 1.584 1.309 2.543 2.268zM28 29.5c0 0.271-0.229 0.5-0.5 0.5h-23c-0.271 0-0.5-0.229-0.5-0.5v-27c0-0.271 0.229-0.5 0.5-0.5 0 0 15.499-0 15.5 0v7c0 0.552 0.448 1 1 1h7v19.5z\"></path>\n",
       "<path d=\"M23 26h-14c-0.552 0-1-0.448-1-1s0.448-1 1-1h14c0.552 0 1 0.448 1 1s-0.448 1-1 1z\"></path>\n",
       "<path d=\"M23 22h-14c-0.552 0-1-0.448-1-1s0.448-1 1-1h14c0.552 0 1 0.448 1 1s-0.448 1-1 1z\"></path>\n",
       "<path d=\"M23 18h-14c-0.552 0-1-0.448-1-1s0.448-1 1-1h14c0.552 0 1 0.448 1 1s-0.448 1-1 1z\"></path>\n",
       "</symbol>\n",
       "</defs>\n",
       "</svg>\n",
       "<style>/* CSS stylesheet for displaying xarray objects in jupyterlab.\n",
       " *\n",
       " */\n",
       "\n",
       ":root {\n",
       "  --xr-font-color0: var(--jp-content-font-color0, rgba(0, 0, 0, 1));\n",
       "  --xr-font-color2: var(--jp-content-font-color2, rgba(0, 0, 0, 0.54));\n",
       "  --xr-font-color3: var(--jp-content-font-color3, rgba(0, 0, 0, 0.38));\n",
       "  --xr-border-color: var(--jp-border-color2, #e0e0e0);\n",
       "  --xr-disabled-color: var(--jp-layout-color3, #bdbdbd);\n",
       "  --xr-background-color: var(--jp-layout-color0, white);\n",
       "  --xr-background-color-row-even: var(--jp-layout-color1, white);\n",
       "  --xr-background-color-row-odd: var(--jp-layout-color2, #eeeeee);\n",
       "}\n",
       "\n",
       "html[theme=dark],\n",
       "body[data-theme=dark],\n",
       "body.vscode-dark {\n",
       "  --xr-font-color0: rgba(255, 255, 255, 1);\n",
       "  --xr-font-color2: rgba(255, 255, 255, 0.54);\n",
       "  --xr-font-color3: rgba(255, 255, 255, 0.38);\n",
       "  --xr-border-color: #1F1F1F;\n",
       "  --xr-disabled-color: #515151;\n",
       "  --xr-background-color: #111111;\n",
       "  --xr-background-color-row-even: #111111;\n",
       "  --xr-background-color-row-odd: #313131;\n",
       "}\n",
       "\n",
       ".xr-wrap {\n",
       "  display: block !important;\n",
       "  min-width: 300px;\n",
       "  max-width: 700px;\n",
       "}\n",
       "\n",
       ".xr-text-repr-fallback {\n",
       "  /* fallback to plain text repr when CSS is not injected (untrusted notebook) */\n",
       "  display: none;\n",
       "}\n",
       "\n",
       ".xr-header {\n",
       "  padding-top: 6px;\n",
       "  padding-bottom: 6px;\n",
       "  margin-bottom: 4px;\n",
       "  border-bottom: solid 1px var(--xr-border-color);\n",
       "}\n",
       "\n",
       ".xr-header > div,\n",
       ".xr-header > ul {\n",
       "  display: inline;\n",
       "  margin-top: 0;\n",
       "  margin-bottom: 0;\n",
       "}\n",
       "\n",
       ".xr-obj-type,\n",
       ".xr-array-name {\n",
       "  margin-left: 2px;\n",
       "  margin-right: 10px;\n",
       "}\n",
       "\n",
       ".xr-obj-type {\n",
       "  color: var(--xr-font-color2);\n",
       "}\n",
       "\n",
       ".xr-sections {\n",
       "  padding-left: 0 !important;\n",
       "  display: grid;\n",
       "  grid-template-columns: 150px auto auto 1fr 20px 20px;\n",
       "}\n",
       "\n",
       ".xr-section-item {\n",
       "  display: contents;\n",
       "}\n",
       "\n",
       ".xr-section-item input {\n",
       "  display: none;\n",
       "}\n",
       "\n",
       ".xr-section-item input + label {\n",
       "  color: var(--xr-disabled-color);\n",
       "}\n",
       "\n",
       ".xr-section-item input:enabled + label {\n",
       "  cursor: pointer;\n",
       "  color: var(--xr-font-color2);\n",
       "}\n",
       "\n",
       ".xr-section-item input:enabled + label:hover {\n",
       "  color: var(--xr-font-color0);\n",
       "}\n",
       "\n",
       ".xr-section-summary {\n",
       "  grid-column: 1;\n",
       "  color: var(--xr-font-color2);\n",
       "  font-weight: 500;\n",
       "}\n",
       "\n",
       ".xr-section-summary > span {\n",
       "  display: inline-block;\n",
       "  padding-left: 0.5em;\n",
       "}\n",
       "\n",
       ".xr-section-summary-in:disabled + label {\n",
       "  color: var(--xr-font-color2);\n",
       "}\n",
       "\n",
       ".xr-section-summary-in + label:before {\n",
       "  display: inline-block;\n",
       "  content: '►';\n",
       "  font-size: 11px;\n",
       "  width: 15px;\n",
       "  text-align: center;\n",
       "}\n",
       "\n",
       ".xr-section-summary-in:disabled + label:before {\n",
       "  color: var(--xr-disabled-color);\n",
       "}\n",
       "\n",
       ".xr-section-summary-in:checked + label:before {\n",
       "  content: '▼';\n",
       "}\n",
       "\n",
       ".xr-section-summary-in:checked + label > span {\n",
       "  display: none;\n",
       "}\n",
       "\n",
       ".xr-section-summary,\n",
       ".xr-section-inline-details {\n",
       "  padding-top: 4px;\n",
       "  padding-bottom: 4px;\n",
       "}\n",
       "\n",
       ".xr-section-inline-details {\n",
       "  grid-column: 2 / -1;\n",
       "}\n",
       "\n",
       ".xr-section-details {\n",
       "  display: none;\n",
       "  grid-column: 1 / -1;\n",
       "  margin-bottom: 5px;\n",
       "}\n",
       "\n",
       ".xr-section-summary-in:checked ~ .xr-section-details {\n",
       "  display: contents;\n",
       "}\n",
       "\n",
       ".xr-array-wrap {\n",
       "  grid-column: 1 / -1;\n",
       "  display: grid;\n",
       "  grid-template-columns: 20px auto;\n",
       "}\n",
       "\n",
       ".xr-array-wrap > label {\n",
       "  grid-column: 1;\n",
       "  vertical-align: top;\n",
       "}\n",
       "\n",
       ".xr-preview {\n",
       "  color: var(--xr-font-color3);\n",
       "}\n",
       "\n",
       ".xr-array-preview,\n",
       ".xr-array-data {\n",
       "  padding: 0 5px !important;\n",
       "  grid-column: 2;\n",
       "}\n",
       "\n",
       ".xr-array-data,\n",
       ".xr-array-in:checked ~ .xr-array-preview {\n",
       "  display: none;\n",
       "}\n",
       "\n",
       ".xr-array-in:checked ~ .xr-array-data,\n",
       ".xr-array-preview {\n",
       "  display: inline-block;\n",
       "}\n",
       "\n",
       ".xr-dim-list {\n",
       "  display: inline-block !important;\n",
       "  list-style: none;\n",
       "  padding: 0 !important;\n",
       "  margin: 0;\n",
       "}\n",
       "\n",
       ".xr-dim-list li {\n",
       "  display: inline-block;\n",
       "  padding: 0;\n",
       "  margin: 0;\n",
       "}\n",
       "\n",
       ".xr-dim-list:before {\n",
       "  content: '(';\n",
       "}\n",
       "\n",
       ".xr-dim-list:after {\n",
       "  content: ')';\n",
       "}\n",
       "\n",
       ".xr-dim-list li:not(:last-child):after {\n",
       "  content: ',';\n",
       "  padding-right: 5px;\n",
       "}\n",
       "\n",
       ".xr-has-index {\n",
       "  font-weight: bold;\n",
       "}\n",
       "\n",
       ".xr-var-list,\n",
       ".xr-var-item {\n",
       "  display: contents;\n",
       "}\n",
       "\n",
       ".xr-var-item > div,\n",
       ".xr-var-item label,\n",
       ".xr-var-item > .xr-var-name span {\n",
       "  background-color: var(--xr-background-color-row-even);\n",
       "  margin-bottom: 0;\n",
       "}\n",
       "\n",
       ".xr-var-item > .xr-var-name:hover span {\n",
       "  padding-right: 5px;\n",
       "}\n",
       "\n",
       ".xr-var-list > li:nth-child(odd) > div,\n",
       ".xr-var-list > li:nth-child(odd) > label,\n",
       ".xr-var-list > li:nth-child(odd) > .xr-var-name span {\n",
       "  background-color: var(--xr-background-color-row-odd);\n",
       "}\n",
       "\n",
       ".xr-var-name {\n",
       "  grid-column: 1;\n",
       "}\n",
       "\n",
       ".xr-var-dims {\n",
       "  grid-column: 2;\n",
       "}\n",
       "\n",
       ".xr-var-dtype {\n",
       "  grid-column: 3;\n",
       "  text-align: right;\n",
       "  color: var(--xr-font-color2);\n",
       "}\n",
       "\n",
       ".xr-var-preview {\n",
       "  grid-column: 4;\n",
       "}\n",
       "\n",
       ".xr-index-preview {\n",
       "  grid-column: 2 / 5;\n",
       "  color: var(--xr-font-color2);\n",
       "}\n",
       "\n",
       ".xr-var-name,\n",
       ".xr-var-dims,\n",
       ".xr-var-dtype,\n",
       ".xr-preview,\n",
       ".xr-attrs dt {\n",
       "  white-space: nowrap;\n",
       "  overflow: hidden;\n",
       "  text-overflow: ellipsis;\n",
       "  padding-right: 10px;\n",
       "}\n",
       "\n",
       ".xr-var-name:hover,\n",
       ".xr-var-dims:hover,\n",
       ".xr-var-dtype:hover,\n",
       ".xr-attrs dt:hover {\n",
       "  overflow: visible;\n",
       "  width: auto;\n",
       "  z-index: 1;\n",
       "}\n",
       "\n",
       ".xr-var-attrs,\n",
       ".xr-var-data,\n",
       ".xr-index-data {\n",
       "  display: none;\n",
       "  background-color: var(--xr-background-color) !important;\n",
       "  padding-bottom: 5px !important;\n",
       "}\n",
       "\n",
       ".xr-var-attrs-in:checked ~ .xr-var-attrs,\n",
       ".xr-var-data-in:checked ~ .xr-var-data,\n",
       ".xr-index-data-in:checked ~ .xr-index-data {\n",
       "  display: block;\n",
       "}\n",
       "\n",
       ".xr-var-data > table {\n",
       "  float: right;\n",
       "}\n",
       "\n",
       ".xr-var-name span,\n",
       ".xr-var-data,\n",
       ".xr-index-name div,\n",
       ".xr-index-data,\n",
       ".xr-attrs {\n",
       "  padding-left: 25px !important;\n",
       "}\n",
       "\n",
       ".xr-attrs,\n",
       ".xr-var-attrs,\n",
       ".xr-var-data,\n",
       ".xr-index-data {\n",
       "  grid-column: 1 / -1;\n",
       "}\n",
       "\n",
       "dl.xr-attrs {\n",
       "  padding: 0;\n",
       "  margin: 0;\n",
       "  display: grid;\n",
       "  grid-template-columns: 125px auto;\n",
       "}\n",
       "\n",
       ".xr-attrs dt,\n",
       ".xr-attrs dd {\n",
       "  padding: 0;\n",
       "  margin: 0;\n",
       "  float: left;\n",
       "  padding-right: 10px;\n",
       "  width: auto;\n",
       "}\n",
       "\n",
       ".xr-attrs dt {\n",
       "  font-weight: normal;\n",
       "  grid-column: 1;\n",
       "}\n",
       "\n",
       ".xr-attrs dt:hover span {\n",
       "  display: inline-block;\n",
       "  background: var(--xr-background-color);\n",
       "  padding-right: 10px;\n",
       "}\n",
       "\n",
       ".xr-attrs dd {\n",
       "  grid-column: 2;\n",
       "  white-space: pre-wrap;\n",
       "  word-break: break-all;\n",
       "}\n",
       "\n",
       ".xr-icon-database,\n",
       ".xr-icon-file-text2,\n",
       ".xr-no-icon {\n",
       "  display: inline-block;\n",
       "  vertical-align: middle;\n",
       "  width: 1em;\n",
       "  height: 1.5em !important;\n",
       "  stroke-width: 0;\n",
       "  stroke: currentColor;\n",
       "  fill: currentColor;\n",
       "}\n",
       "</style><pre class='xr-text-repr-fallback'>&lt;xarray.Dataset&gt;\n",
       "Dimensions:                   (time: 25933, nbnds: 2)\n",
       "Coordinates:\n",
       "  * time                      (time) datetime64[ns] 1950-01-01 ... 2020-12-31\n",
       "  * nbnds                     (nbnds) int32 1 2\n",
       "Data variables:\n",
       "    q_obs_data_quality        (time) object ...\n",
       "    q_obs                     (time) float64 ...\n",
       "    q_obs_is_ice_affected     (time) int32 ...\n",
       "    q_obs_is_partial_day      (time) int32 ...\n",
       "    q_obs_is_dry_day          (time) int32 ...\n",
       "    q_obs_is_estimated_value  (time) int32 ...\n",
       "    time_bnds                 (nbnds, time) datetime64[ns] ...\n",
       "Attributes:\n",
       "    title:        CAMELS-spat streamflow data\n",
       "    conventions:  CF-1.10\n",
       "    source:       Streamflow derived from observed water levels\n",
       "    country:      CAN\n",
       "    station:      01AD002\n",
       "    institution:  Water Survey of Canada\n",
       "    references:   Original data extracted from the Environment and Climate Ch...\n",
       "    history:      2023-08-02 11:32:55 | File prepared using CAMELS-spat scrip...\n",
       "    comment:      Water Survey of Canada calculates daily average flow values...</pre><div class='xr-wrap' style='display:none'><div class='xr-header'><div class='xr-obj-type'>xarray.Dataset</div></div><ul class='xr-sections'><li class='xr-section-item'><input id='section-b00c1b1f-a37e-4fc8-b627-c00339da7b6d' class='xr-section-summary-in' type='checkbox' disabled ><label for='section-b00c1b1f-a37e-4fc8-b627-c00339da7b6d' class='xr-section-summary'  title='Expand/collapse section'>Dimensions:</label><div class='xr-section-inline-details'><ul class='xr-dim-list'><li><span class='xr-has-index'>time</span>: 25933</li><li><span class='xr-has-index'>nbnds</span>: 2</li></ul></div><div class='xr-section-details'></div></li><li class='xr-section-item'><input id='section-159b32bd-a599-41a3-b428-a7d1a5263456' class='xr-section-summary-in' type='checkbox'  checked><label for='section-159b32bd-a599-41a3-b428-a7d1a5263456' class='xr-section-summary' >Coordinates: <span>(2)</span></label><div class='xr-section-inline-details'></div><div class='xr-section-details'><ul class='xr-var-list'><li class='xr-var-item'><div class='xr-var-name'><span class='xr-has-index'>time</span></div><div class='xr-var-dims'>(time)</div><div class='xr-var-dtype'>datetime64[ns]</div><div class='xr-var-preview xr-preview'>1950-01-01 ... 2020-12-31</div><input id='attrs-b96a06d3-d366-4497-8d9e-d83e137a0301' class='xr-var-attrs-in' type='checkbox' ><label for='attrs-b96a06d3-d366-4497-8d9e-d83e137a0301' title='Show/Hide attributes'><svg class='icon xr-icon-file-text2'><use xlink:href='#icon-file-text2'></use></svg></label><input id='data-7f934d71-7600-4a21-83af-d9626dd392d9' class='xr-var-data-in' type='checkbox'><label for='data-7f934d71-7600-4a21-83af-d9626dd392d9' title='Show/Hide data repr'><svg class='icon xr-icon-database'><use xlink:href='#icon-database'></use></svg></label><div class='xr-var-attrs'><dl class='xr-attrs'><dt><span>standard_name :</span></dt><dd>time</dd><dt><span>bounds :</span></dt><dd>time_bnds</dd></dl></div><div class='xr-var-data'><pre>array([&#x27;1950-01-01T00:00:00.000000000&#x27;, &#x27;1950-01-02T00:00:00.000000000&#x27;,\n",
       "       &#x27;1950-01-03T00:00:00.000000000&#x27;, ..., &#x27;2020-12-29T00:00:00.000000000&#x27;,\n",
       "       &#x27;2020-12-30T00:00:00.000000000&#x27;, &#x27;2020-12-31T00:00:00.000000000&#x27;],\n",
       "      dtype=&#x27;datetime64[ns]&#x27;)</pre></div></li><li class='xr-var-item'><div class='xr-var-name'><span class='xr-has-index'>nbnds</span></div><div class='xr-var-dims'>(nbnds)</div><div class='xr-var-dtype'>int32</div><div class='xr-var-preview xr-preview'>1 2</div><input id='attrs-eaa7aa3e-278a-4469-8ae5-1968e295ee37' class='xr-var-attrs-in' type='checkbox' ><label for='attrs-eaa7aa3e-278a-4469-8ae5-1968e295ee37' title='Show/Hide attributes'><svg class='icon xr-icon-file-text2'><use xlink:href='#icon-file-text2'></use></svg></label><input id='data-1d97b08c-c107-4413-b6b1-4fa2129428df' class='xr-var-data-in' type='checkbox'><label for='data-1d97b08c-c107-4413-b6b1-4fa2129428df' title='Show/Hide data repr'><svg class='icon xr-icon-database'><use xlink:href='#icon-database'></use></svg></label><div class='xr-var-attrs'><dl class='xr-attrs'><dt><span>standard_name :</span></dt><dd>bounds for timestep intervals</dd></dl></div><div class='xr-var-data'><pre>array([1, 2], dtype=int32)</pre></div></li></ul></div></li><li class='xr-section-item'><input id='section-5b32f384-24c6-45c6-8e6c-9bb7ed9eef26' class='xr-section-summary-in' type='checkbox'  checked><label for='section-5b32f384-24c6-45c6-8e6c-9bb7ed9eef26' class='xr-section-summary' >Data variables: <span>(7)</span></label><div class='xr-section-inline-details'></div><div class='xr-section-details'><ul class='xr-var-list'><li class='xr-var-item'><div class='xr-var-name'><span>q_obs_data_quality</span></div><div class='xr-var-dims'>(time)</div><div class='xr-var-dtype'>object</div><div class='xr-var-preview xr-preview'>...</div><input id='attrs-0d9a2ff6-b564-437c-a64d-953517ff390e' class='xr-var-attrs-in' type='checkbox' ><label for='attrs-0d9a2ff6-b564-437c-a64d-953517ff390e' title='Show/Hide attributes'><svg class='icon xr-icon-file-text2'><use xlink:href='#icon-file-text2'></use></svg></label><input id='data-4c4463dc-953b-4c7e-baef-ff127aa69d65' class='xr-var-data-in' type='checkbox'><label for='data-4c4463dc-953b-4c7e-baef-ff127aa69d65' title='Show/Hide data repr'><svg class='icon xr-icon-database'><use xlink:href='#icon-database'></use></svg></label><div class='xr-var-attrs'><dl class='xr-attrs'><dt><span>standard_name :</span></dt><dd>quality_flag</dd><dt><span>long_name :</span></dt><dd>data quality flag</dd><dt><span>flag_values :</span></dt><dd>&#x27;A&#x27; &#x27;B&#x27; &#x27;E&#x27; &#x27;nan&#x27;</dd><dt><span>flag_meanings :</span></dt><dd>&#x27;Partial day&#x27; &#x27;Ice Conditions&#x27; &#x27;Estimated&#x27; &#x27;Unknown&#x27;</dd></dl></div><div class='xr-var-data'><pre>[25933 values with dtype=object]</pre></div></li><li class='xr-var-item'><div class='xr-var-name'><span>q_obs</span></div><div class='xr-var-dims'>(time)</div><div class='xr-var-dtype'>float64</div><div class='xr-var-preview xr-preview'>...</div><input id='attrs-2d11d6f3-d1c8-4c37-acf4-52ea7daa4867' class='xr-var-attrs-in' type='checkbox' ><label for='attrs-2d11d6f3-d1c8-4c37-acf4-52ea7daa4867' title='Show/Hide attributes'><svg class='icon xr-icon-file-text2'><use xlink:href='#icon-file-text2'></use></svg></label><input id='data-bc07cf3c-d6e8-42d8-bc22-14fd6ca64816' class='xr-var-data-in' type='checkbox'><label for='data-bc07cf3c-d6e8-42d8-bc22-14fd6ca64816' title='Show/Hide data repr'><svg class='icon xr-icon-database'><use xlink:href='#icon-database'></use></svg></label><div class='xr-var-attrs'><dl class='xr-attrs'><dt><span>units :</span></dt><dd>m3 s-1</dd><dt><span>long_name :</span></dt><dd>observed streamflow values</dd><dt><span>cell_methods :</span></dt><dd>time:mean</dd><dt><span>ancillary_variables :</span></dt><dd>&#x27;q_obs_is_ice_affected&#x27; &#x27;q_obs_is_partial_day&#x27; &#x27;q_obs_is_dry_day&#x27; &#x27;q_obs_is_estimated_value&#x27; &#x27;q_obs_data_quality&#x27;</dd></dl></div><div class='xr-var-data'><pre>[25933 values with dtype=float64]</pre></div></li><li class='xr-var-item'><div class='xr-var-name'><span>q_obs_is_ice_affected</span></div><div class='xr-var-dims'>(time)</div><div class='xr-var-dtype'>int32</div><div class='xr-var-preview xr-preview'>...</div><input id='attrs-ed15d958-7245-40ef-ad2c-995724f8a760' class='xr-var-attrs-in' type='checkbox' ><label for='attrs-ed15d958-7245-40ef-ad2c-995724f8a760' title='Show/Hide attributes'><svg class='icon xr-icon-file-text2'><use xlink:href='#icon-file-text2'></use></svg></label><input id='data-006ff7dd-d8d0-480d-baf8-1150363a1b52' class='xr-var-data-in' type='checkbox'><label for='data-006ff7dd-d8d0-480d-baf8-1150363a1b52' title='Show/Hide data repr'><svg class='icon xr-icon-database'><use xlink:href='#icon-database'></use></svg></label><div class='xr-var-attrs'><dl class='xr-attrs'><dt><span>standard_name :</span></dt><dd>quality_flag</dd><dt><span>long_name :</span></dt><dd>flag indicating if main variable is affected by process in variable name</dd><dt><span>flag_values :</span></dt><dd>&#x27;0&#x27; &#x27;1&#x27;</dd><dt><span>flag_meanings :</span></dt><dd>&#x27;no&#x27; &#x27;yes&#x27;</dd></dl></div><div class='xr-var-data'><pre>[25933 values with dtype=int32]</pre></div></li><li class='xr-var-item'><div class='xr-var-name'><span>q_obs_is_partial_day</span></div><div class='xr-var-dims'>(time)</div><div class='xr-var-dtype'>int32</div><div class='xr-var-preview xr-preview'>...</div><input id='attrs-a5f581f3-d3e5-48e7-b5f8-ba1e69eb0697' class='xr-var-attrs-in' type='checkbox' ><label for='attrs-a5f581f3-d3e5-48e7-b5f8-ba1e69eb0697' title='Show/Hide attributes'><svg class='icon xr-icon-file-text2'><use xlink:href='#icon-file-text2'></use></svg></label><input id='data-4807b0ad-09bd-486f-95ce-9865dc403ca0' class='xr-var-data-in' type='checkbox'><label for='data-4807b0ad-09bd-486f-95ce-9865dc403ca0' title='Show/Hide data repr'><svg class='icon xr-icon-database'><use xlink:href='#icon-database'></use></svg></label><div class='xr-var-attrs'><dl class='xr-attrs'><dt><span>standard_name :</span></dt><dd>quality_flag</dd><dt><span>long_name :</span></dt><dd>flag indicating if main variable is affected by process in variable name</dd><dt><span>flag_values :</span></dt><dd>&#x27;0&#x27; &#x27;1&#x27;</dd><dt><span>flag_meanings :</span></dt><dd>&#x27;no&#x27; &#x27;yes&#x27;</dd></dl></div><div class='xr-var-data'><pre>[25933 values with dtype=int32]</pre></div></li><li class='xr-var-item'><div class='xr-var-name'><span>q_obs_is_dry_day</span></div><div class='xr-var-dims'>(time)</div><div class='xr-var-dtype'>int32</div><div class='xr-var-preview xr-preview'>...</div><input id='attrs-778bc309-c63c-450c-bd80-8798921bb4a8' class='xr-var-attrs-in' type='checkbox' ><label for='attrs-778bc309-c63c-450c-bd80-8798921bb4a8' title='Show/Hide attributes'><svg class='icon xr-icon-file-text2'><use xlink:href='#icon-file-text2'></use></svg></label><input id='data-cf20d172-8b59-41d5-ade5-10cb52a80d59' class='xr-var-data-in' type='checkbox'><label for='data-cf20d172-8b59-41d5-ade5-10cb52a80d59' title='Show/Hide data repr'><svg class='icon xr-icon-database'><use xlink:href='#icon-database'></use></svg></label><div class='xr-var-attrs'><dl class='xr-attrs'><dt><span>standard_name :</span></dt><dd>quality_flag</dd><dt><span>long_name :</span></dt><dd>flag indicating if main variable is affected by process in variable name</dd><dt><span>flag_values :</span></dt><dd>&#x27;0&#x27; &#x27;1&#x27;</dd><dt><span>flag_meanings :</span></dt><dd>&#x27;no&#x27; &#x27;yes&#x27;</dd></dl></div><div class='xr-var-data'><pre>[25933 values with dtype=int32]</pre></div></li><li class='xr-var-item'><div class='xr-var-name'><span>q_obs_is_estimated_value</span></div><div class='xr-var-dims'>(time)</div><div class='xr-var-dtype'>int32</div><div class='xr-var-preview xr-preview'>...</div><input id='attrs-c532a87f-6abe-4a84-9c47-7cc2ac617840' class='xr-var-attrs-in' type='checkbox' ><label for='attrs-c532a87f-6abe-4a84-9c47-7cc2ac617840' title='Show/Hide attributes'><svg class='icon xr-icon-file-text2'><use xlink:href='#icon-file-text2'></use></svg></label><input id='data-44417cd4-3206-441e-862a-3c2f1a980558' class='xr-var-data-in' type='checkbox'><label for='data-44417cd4-3206-441e-862a-3c2f1a980558' title='Show/Hide data repr'><svg class='icon xr-icon-database'><use xlink:href='#icon-database'></use></svg></label><div class='xr-var-attrs'><dl class='xr-attrs'><dt><span>standard_name :</span></dt><dd>quality_flag</dd><dt><span>long_name :</span></dt><dd>flag indicating if main variable is affected by process in variable name</dd><dt><span>flag_values :</span></dt><dd>&#x27;0&#x27; &#x27;1&#x27;</dd><dt><span>flag_meanings :</span></dt><dd>&#x27;no&#x27; &#x27;yes&#x27;</dd></dl></div><div class='xr-var-data'><pre>[25933 values with dtype=int32]</pre></div></li><li class='xr-var-item'><div class='xr-var-name'><span>time_bnds</span></div><div class='xr-var-dims'>(nbnds, time)</div><div class='xr-var-dtype'>datetime64[ns]</div><div class='xr-var-preview xr-preview'>...</div><input id='attrs-34e352fc-4534-4477-b2d1-76eba53c56e1' class='xr-var-attrs-in' type='checkbox' ><label for='attrs-34e352fc-4534-4477-b2d1-76eba53c56e1' title='Show/Hide attributes'><svg class='icon xr-icon-file-text2'><use xlink:href='#icon-file-text2'></use></svg></label><input id='data-375a9a20-b4e7-4b8f-9e3f-5ab8ce480fa4' class='xr-var-data-in' type='checkbox'><label for='data-375a9a20-b4e7-4b8f-9e3f-5ab8ce480fa4' title='Show/Hide data repr'><svg class='icon xr-icon-database'><use xlink:href='#icon-database'></use></svg></label><div class='xr-var-attrs'><dl class='xr-attrs'><dt><span>long_name :</span></dt><dd>start and end points of each time interval</dd><dt><span>time_zone :</span></dt><dd>UTC</dd><dt><span>station_standard_time :</span></dt><dd>AST</dd></dl></div><div class='xr-var-data'><pre>[51866 values with dtype=datetime64[ns]]</pre></div></li></ul></div></li><li class='xr-section-item'><input id='section-b7abe954-8e7a-4955-ae86-0b34831ecb1d' class='xr-section-summary-in' type='checkbox'  ><label for='section-b7abe954-8e7a-4955-ae86-0b34831ecb1d' class='xr-section-summary' >Indexes: <span>(2)</span></label><div class='xr-section-inline-details'></div><div class='xr-section-details'><ul class='xr-var-list'><li class='xr-var-item'><div class='xr-index-name'><div>time</div></div><div class='xr-index-preview'>PandasIndex</div><div></div><input id='index-fe5dc5c1-b0f7-4c3c-b1d1-8c2d445adc25' class='xr-index-data-in' type='checkbox'/><label for='index-fe5dc5c1-b0f7-4c3c-b1d1-8c2d445adc25' title='Show/Hide index repr'><svg class='icon xr-icon-database'><use xlink:href='#icon-database'></use></svg></label><div class='xr-index-data'><pre>PandasIndex(DatetimeIndex([&#x27;1950-01-01&#x27;, &#x27;1950-01-02&#x27;, &#x27;1950-01-03&#x27;, &#x27;1950-01-04&#x27;,\n",
       "               &#x27;1950-01-05&#x27;, &#x27;1950-01-06&#x27;, &#x27;1950-01-07&#x27;, &#x27;1950-01-08&#x27;,\n",
       "               &#x27;1950-01-09&#x27;, &#x27;1950-01-10&#x27;,\n",
       "               ...\n",
       "               &#x27;2020-12-22&#x27;, &#x27;2020-12-23&#x27;, &#x27;2020-12-24&#x27;, &#x27;2020-12-25&#x27;,\n",
       "               &#x27;2020-12-26&#x27;, &#x27;2020-12-27&#x27;, &#x27;2020-12-28&#x27;, &#x27;2020-12-29&#x27;,\n",
       "               &#x27;2020-12-30&#x27;, &#x27;2020-12-31&#x27;],\n",
       "              dtype=&#x27;datetime64[ns]&#x27;, name=&#x27;time&#x27;, length=25933, freq=None))</pre></div></li><li class='xr-var-item'><div class='xr-index-name'><div>nbnds</div></div><div class='xr-index-preview'>PandasIndex</div><div></div><input id='index-81075041-a6e7-4495-aa5e-f813c425bd6f' class='xr-index-data-in' type='checkbox'/><label for='index-81075041-a6e7-4495-aa5e-f813c425bd6f' title='Show/Hide index repr'><svg class='icon xr-icon-database'><use xlink:href='#icon-database'></use></svg></label><div class='xr-index-data'><pre>PandasIndex(Index([1, 2], dtype=&#x27;int32&#x27;, name=&#x27;nbnds&#x27;))</pre></div></li></ul></div></li><li class='xr-section-item'><input id='section-7057cffe-37bf-45ef-a9b1-a3fe2f91d116' class='xr-section-summary-in' type='checkbox'  checked><label for='section-7057cffe-37bf-45ef-a9b1-a3fe2f91d116' class='xr-section-summary' >Attributes: <span>(9)</span></label><div class='xr-section-inline-details'></div><div class='xr-section-details'><dl class='xr-attrs'><dt><span>title :</span></dt><dd>CAMELS-spat streamflow data</dd><dt><span>conventions :</span></dt><dd>CF-1.10</dd><dt><span>source :</span></dt><dd>Streamflow derived from observed water levels</dd><dt><span>country :</span></dt><dd>CAN</dd><dt><span>station :</span></dt><dd>01AD002</dd><dt><span>institution :</span></dt><dd>Water Survey of Canada</dd><dt><span>references :</span></dt><dd>Original data extracted from the Environment and Climate Change Canada Real-time Hydrometric Data web site (https://wateroffice.ec.gc.ca/mainmenu/real_time_data_index_e.html) on 2023-04-05</dd><dt><span>history :</span></dt><dd>2023-08-02 11:32:55 | File prepared using CAMELS-spat scripts. See:https://github.com/CH-Earth/camels-spat</dd><dt><span>comment :</span></dt><dd>Water Survey of Canada calculates daily average flow values in the station&#x27;s standard time (i.e., not UTC). See: variable time_bnds.</dd></dl></div></li></ul></div></div>"
      ],
      "text/plain": [
       "<xarray.Dataset>\n",
       "Dimensions:                   (time: 25933, nbnds: 2)\n",
       "Coordinates:\n",
       "  * time                      (time) datetime64[ns] 1950-01-01 ... 2020-12-31\n",
       "  * nbnds                     (nbnds) int32 1 2\n",
       "Data variables:\n",
       "    q_obs_data_quality        (time) object ...\n",
       "    q_obs                     (time) float64 ...\n",
       "    q_obs_is_ice_affected     (time) int32 ...\n",
       "    q_obs_is_partial_day      (time) int32 ...\n",
       "    q_obs_is_dry_day          (time) int32 ...\n",
       "    q_obs_is_estimated_value  (time) int32 ...\n",
       "    time_bnds                 (nbnds, time) datetime64[ns] ...\n",
       "Attributes:\n",
       "    title:        CAMELS-spat streamflow data\n",
       "    conventions:  CF-1.10\n",
       "    source:       Streamflow derived from observed water levels\n",
       "    country:      CAN\n",
       "    station:      01AD002\n",
       "    institution:  Water Survey of Canada\n",
       "    references:   Original data extracted from the Environment and Climate Ch...\n",
       "    history:      2023-08-02 11:32:55 | File prepared using CAMELS-spat scrip...\n",
       "    comment:      Water Survey of Canada calculates daily average flow values..."
      ]
     },
     "execution_count": 18,
     "metadata": {},
     "output_type": "execute_result"
    }
   ],
   "source": [
    "folder2load = os.path.join(basin_data_path, basin_data_path_dict[countries[0]][0], 'observations')\n",
    "file2load = basin_data_path_dict[countries[0]][0] + '_daily_flow_observations.nc'\n",
    "basin_obs = xr.open_dataset(os.path.join(folder2load, file2load))\n",
    "basin_obs"
   ]
  },
  {
   "cell_type": "code",
   "execution_count": 19,
   "metadata": {},
   "outputs": [
    {
     "data": {
      "text/plain": [
       "['q_obs_data_quality',\n",
       " 'q_obs',\n",
       " 'q_obs_is_ice_affected',\n",
       " 'q_obs_is_partial_day',\n",
       " 'q_obs_is_dry_day',\n",
       " 'q_obs_is_estimated_value']"
      ]
     },
     "execution_count": 19,
     "metadata": {},
     "output_type": "execute_result"
    }
   ],
   "source": [
    "variable_names = [var for var in list(basin_obs.variables.keys()) if 'obs' in var]\n",
    "variable_names"
   ]
  },
  {
   "cell_type": "code",
   "execution_count": 20,
   "metadata": {},
   "outputs": [
    {
     "data": {
      "text/plain": [
       "Text(0.5, 1.0, 'q_obs')"
      ]
     },
     "execution_count": 20,
     "metadata": {},
     "output_type": "execute_result"
    },
    {
     "data": {
      "image/png": "[encoded data removed]",
      "text/plain": [
       "<Figure size 1500x500 with 1 Axes>"
      ]
     },
     "metadata": {},
     "output_type": "display_data"
    }
   ],
   "source": [
    "var_to_plot = variable_names[1]\n",
    "# Plot the data\n",
    "basin_obs[var_to_plot].plot.line(hue='station_id', figsize=(15, 5))\n",
    "plt.title(var_to_plot)"
   ]
  },
  {
   "cell_type": "markdown",
   "metadata": {},
   "source": []
  },
  {
   "cell_type": "code",
   "execution_count": null,
   "metadata": {},
   "outputs": [],
   "source": []
  },
  {
   "cell_type": "markdown",
   "metadata": {},
   "source": []
  },
  {
   "cell_type": "code",
   "execution_count": null,
   "metadata": {},
   "outputs": [],
   "source": []
  }
 ],
 "metadata": {
  "kernelspec": {
   "display_name": "venv-camels-spat",
   "language": "python",
   "name": "python3"
  },
  "language_info": {
   "codemirror_mode": {
    "name": "ipython",
    "version": 3
   },
   "file_extension": ".py",
   "mimetype": "text/x-python",
   "name": "python",
   "nbconvert_exporter": "python",
   "pygments_lexer": "ipython3",
   "version": "3.8.10"
  }
 },
 "nbformat": 4,
 "nbformat_minor": 2
}
